{
 "cells": [
  {
   "cell_type": "code",
   "execution_count": 5,
   "id": "0f3aec4c",
   "metadata": {},
   "outputs": [
    {
     "name": "stdout",
     "output_type": "stream",
     "text": [
      "Requirement already satisfied: nltk in c:\\users\\savig\\anaconda3\\lib\\site-packages (3.8.1)\n",
      "Requirement already satisfied: click in c:\\users\\savig\\anaconda3\\lib\\site-packages (from nltk) (8.0.4)\n",
      "Requirement already satisfied: joblib in c:\\users\\savig\\anaconda3\\lib\\site-packages (from nltk) (1.2.0)\n",
      "Requirement already satisfied: regex>=2021.8.3 in c:\\users\\savig\\anaconda3\\lib\\site-packages (from nltk) (2022.7.9)\n",
      "Requirement already satisfied: tqdm in c:\\users\\savig\\anaconda3\\lib\\site-packages (from nltk) (4.65.0)\n",
      "Requirement already satisfied: colorama in c:\\users\\savig\\anaconda3\\lib\\site-packages (from click->nltk) (0.4.6)\n"
     ]
    }
   ],
   "source": [
    "!pip install nltk\n"
   ]
  },
  {
   "cell_type": "code",
   "execution_count": 6,
   "id": "75ac3e1d",
   "metadata": {},
   "outputs": [],
   "source": [
    "paragraph=\"\"\"\n",
    "Narendra Damodardas Modi (Gujarati: [ˈnəɾendɾə dɑmodəɾˈdɑs ˈmodiː] ⓘ; born 17 September 1950)[b] is an Indian politician who has served as the Prime Minister of India since 26 May 2014. Modi was the chief minister of Gujarat from 2001 to 2014 and is the Member of Parliament (MP) for Varanasi. He is a member of the Bharatiya Janata Party (BJP) and of the Rashtriya Swayamsevak Sangh (RSS), a right wing Hindu nationalist paramilitary volunteer organisation. He is the longest-serving prime minister outside the Indian National Congress.\n",
    "\n",
    "Modi was born and raised in Vadnagar in northeastern Gujarat, where he completed his secondary education. He was introduced to the RSS at the age of eight. At the age of 18, he was married to Jashodaben Modi, whom he abandoned soon after, only publicly acknowledging her four decades later when legally required to do so. Modi became a full-time worker for the RSS in Gujarat in 1971. The RSS assigned him to the BJP in 1985 and he rose through the party hierarchy, becoming general secretary in 1998.[c] In 2001, Modi was appointed Chief Minister of Gujarat and elected to the legislative assembly soon after. His administration is considered complicit in the 2002 Gujarat riots,[d] and has been criticised for its management of the crisis. According to official records, a little over 1,000 people were killed, three-quarters of whom were Muslim; independent sources estimated 2,000 deaths, mostly Muslim.[11] A Special Investigation Team appointed by the Supreme Court of India in 2012 found no evidence to initiate prosecution proceedings against him.[e] While his policies as chief minister were credited for encouraging economic growth, his administration was criticised for failing to significantly improve health, poverty and education indices in the state.[f]\n",
    "\"\"\"\n"
   ]
  },
  {
   "cell_type": "code",
   "execution_count": 7,
   "id": "40c1d2c9",
   "metadata": {},
   "outputs": [],
   "source": [
    "import nltk\n",
    "from nltk.stem import PorterStemmer\n",
    "from nltk.corpus import stopwords"
   ]
  },
  {
   "cell_type": "code",
   "execution_count": 8,
   "id": "f0f701f3",
   "metadata": {},
   "outputs": [
    {
     "name": "stderr",
     "output_type": "stream",
     "text": [
      "[nltk_data] Downloading package punkt to\n",
      "[nltk_data]     C:\\Users\\savig\\AppData\\Roaming\\nltk_data...\n",
      "[nltk_data]   Package punkt is already up-to-date!\n"
     ]
    }
   ],
   "source": [
    "## tokenization - convert para into sentences and focus on words\n",
    "nltk.download('punkt')\n",
    "sentences=nltk.sent_tokenize(paragraph)"
   ]
  },
  {
   "cell_type": "code",
   "execution_count": null,
   "id": "59b33ade",
   "metadata": {},
   "outputs": [],
   "source": []
  },
  {
   "cell_type": "code",
   "execution_count": 9,
   "id": "bb4ecc6b",
   "metadata": {},
   "outputs": [
    {
     "name": "stdout",
     "output_type": "stream",
     "text": [
      "['\\nNarendra Damodardas Modi (Gujarati: [ˈnəɾendɾə dɑmodəɾˈdɑs ˈmodiː] ⓘ; born 17 September 1950)[b] is an Indian politician who has served as the Prime Minister of India since 26 May 2014.', 'Modi was the chief minister of Gujarat from 2001 to 2014 and is the Member of Parliament (MP) for Varanasi.', 'He is a member of the Bharatiya Janata Party (BJP) and of the Rashtriya Swayamsevak Sangh (RSS), a right wing Hindu nationalist paramilitary volunteer organisation.', 'He is the longest-serving prime minister outside the Indian National Congress.', 'Modi was born and raised in Vadnagar in northeastern Gujarat, where he completed his secondary education.', 'He was introduced to the RSS at the age of eight.', 'At the age of 18, he was married to Jashodaben Modi, whom he abandoned soon after, only publicly acknowledging her four decades later when legally required to do so.', 'Modi became a full-time worker for the RSS in Gujarat in 1971.', 'The RSS assigned him to the BJP in 1985 and he rose through the party hierarchy, becoming general secretary in 1998.', '[c] In 2001, Modi was appointed Chief Minister of Gujarat and elected to the legislative assembly soon after.', 'His administration is considered complicit in the 2002 Gujarat riots,[d] and has been criticised for its management of the crisis.', 'According to official records, a little over 1,000 people were killed, three-quarters of whom were Muslim; independent sources estimated 2,000 deaths, mostly Muslim.', '[11] A Special Investigation Team appointed by the Supreme Court of India in 2012 found no evidence to initiate prosecution proceedings against him.', '[e] While his policies as chief minister were credited for encouraging economic growth, his administration was criticised for failing to significantly improve health, poverty and education indices in the state.', '[f]']\n"
     ]
    }
   ],
   "source": [
    "print(sentences)"
   ]
  },
  {
   "cell_type": "code",
   "execution_count": 10,
   "id": "96943d5b",
   "metadata": {},
   "outputs": [
    {
     "data": {
      "text/plain": [
       "list"
      ]
     },
     "execution_count": 10,
     "metadata": {},
     "output_type": "execute_result"
    }
   ],
   "source": [
    "type(sentences)"
   ]
  },
  {
   "cell_type": "code",
   "execution_count": 11,
   "id": "b30ef659",
   "metadata": {},
   "outputs": [],
   "source": [
    "## stemming - to determine base root words of any word\n",
    "\n",
    "stemmer=PorterStemmer()\n"
   ]
  },
  {
   "cell_type": "code",
   "execution_count": 12,
   "id": "a9516b6d",
   "metadata": {},
   "outputs": [
    {
     "data": {
      "text/plain": [
       "'think'"
      ]
     },
     "execution_count": 12,
     "metadata": {},
     "output_type": "execute_result"
    }
   ],
   "source": [
    "stemmer.stem('thinking')"
   ]
  },
  {
   "cell_type": "code",
   "execution_count": 13,
   "id": "f47887f5",
   "metadata": {},
   "outputs": [
    {
     "data": {
      "text/plain": [
       "'final'"
      ]
     },
     "execution_count": 13,
     "metadata": {},
     "output_type": "execute_result"
    }
   ],
   "source": [
    "stemmer.stem('finalized')"
   ]
  },
  {
   "cell_type": "code",
   "execution_count": 14,
   "id": "70ede0c3",
   "metadata": {},
   "outputs": [
    {
     "name": "stderr",
     "output_type": "stream",
     "text": [
      "[nltk_data] Downloading package wordnet to\n",
      "[nltk_data]     C:\\Users\\savig\\AppData\\Roaming\\nltk_data...\n",
      "[nltk_data]   Package wordnet is already up-to-date!\n"
     ]
    },
    {
     "data": {
      "text/plain": [
       "True"
      ]
     },
     "execution_count": 14,
     "metadata": {},
     "output_type": "execute_result"
    }
   ],
   "source": [
    "nltk.download('wordnet')"
   ]
  },
  {
   "cell_type": "code",
   "execution_count": 15,
   "id": "6553fb5f",
   "metadata": {},
   "outputs": [],
   "source": [
    "## Lemmatization - used for getting legit base words - import from nltk.stem\n",
    "from nltk.stem import WordNetLemmatizer"
   ]
  },
  {
   "cell_type": "code",
   "execution_count": 16,
   "id": "ce9cccff",
   "metadata": {},
   "outputs": [],
   "source": [
    "lemmatizer=WordNetLemmatizer()\n"
   ]
  },
  {
   "cell_type": "code",
   "execution_count": 17,
   "id": "fc7650b1",
   "metadata": {},
   "outputs": [
    {
     "data": {
      "text/plain": [
       "'historically'"
      ]
     },
     "execution_count": 17,
     "metadata": {},
     "output_type": "execute_result"
    }
   ],
   "source": [
    "lemmatizer.lemmatize('historically')"
   ]
  },
  {
   "cell_type": "code",
   "execution_count": 18,
   "id": "4b14eb28",
   "metadata": {},
   "outputs": [
    {
     "data": {
      "text/plain": [
       "'drinking'"
      ]
     },
     "execution_count": 18,
     "metadata": {},
     "output_type": "execute_result"
    }
   ],
   "source": [
    "lemmatizer.lemmatize('drinking')"
   ]
  },
  {
   "cell_type": "code",
   "execution_count": 19,
   "id": "2589d292",
   "metadata": {},
   "outputs": [
    {
     "data": {
      "text/plain": [
       "'go'"
      ]
     },
     "execution_count": 19,
     "metadata": {},
     "output_type": "execute_result"
    }
   ],
   "source": [
    "lemmatizer.lemmatize('goes')"
   ]
  },
  {
   "cell_type": "code",
   "execution_count": 20,
   "id": "699668b8",
   "metadata": {},
   "outputs": [
    {
     "data": {
      "text/plain": [
       "15"
      ]
     },
     "execution_count": 20,
     "metadata": {},
     "output_type": "execute_result"
    }
   ],
   "source": [
    "len(sentences)"
   ]
  },
  {
   "cell_type": "code",
   "execution_count": 21,
   "id": "12a2fb35",
   "metadata": {},
   "outputs": [],
   "source": [
    " ## Cleaning all paragragh above of all extra symbols and characters - replacing all a-z and A-Z char with blank space\n",
    "import re\n",
    "corpus=[]\n",
    "for i in range(len(sentences)):\n",
    "    review=re.sub('[^a-zA-Z]', ' ', sentences[i])\n",
    "    review=review.lower()\n",
    "    corpus.append(review)"
   ]
  },
  {
   "cell_type": "code",
   "execution_count": 22,
   "id": "81e256b6",
   "metadata": {},
   "outputs": [
    {
     "data": {
      "text/plain": [
       "[' narendra damodardas modi  gujarati    n  end   d mod   d s  modi      born    september       b  is an indian politician who has served as the prime minister of india since    may      ',\n",
       " 'modi was the chief minister of gujarat from      to      and is the member of parliament  mp  for varanasi ',\n",
       " 'he is a member of the bharatiya janata party  bjp  and of the rashtriya swayamsevak sangh  rss   a right wing hindu nationalist paramilitary volunteer organisation ',\n",
       " 'he is the longest serving prime minister outside the indian national congress ',\n",
       " 'modi was born and raised in vadnagar in northeastern gujarat  where he completed his secondary education ',\n",
       " 'he was introduced to the rss at the age of eight ',\n",
       " 'at the age of     he was married to jashodaben modi  whom he abandoned soon after  only publicly acknowledging her four decades later when legally required to do so ',\n",
       " 'modi became a full time worker for the rss in gujarat in      ',\n",
       " 'the rss assigned him to the bjp in      and he rose through the party hierarchy  becoming general secretary in      ',\n",
       " ' c  in       modi was appointed chief minister of gujarat and elected to the legislative assembly soon after ',\n",
       " 'his administration is considered complicit in the      gujarat riots  d  and has been criticised for its management of the crisis ',\n",
       " 'according to official records  a little over       people were killed  three quarters of whom were muslim  independent sources estimated       deaths  mostly muslim ',\n",
       " '     a special investigation team appointed by the supreme court of india in      found no evidence to initiate prosecution proceedings against him ',\n",
       " ' e  while his policies as chief minister were credited for encouraging economic growth  his administration was criticised for failing to significantly improve health  poverty and education indices in the state ',\n",
       " ' f ']"
      ]
     },
     "execution_count": 22,
     "metadata": {},
     "output_type": "execute_result"
    }
   ],
   "source": [
    "corpus"
   ]
  },
  {
   "cell_type": "code",
   "execution_count": 23,
   "id": "d63568fb",
   "metadata": {},
   "outputs": [
    {
     "name": "stderr",
     "output_type": "stream",
     "text": [
      "[nltk_data] Downloading package stopwords to\n",
      "[nltk_data]     C:\\Users\\savig\\AppData\\Roaming\\nltk_data...\n",
      "[nltk_data]   Package stopwords is already up-to-date!\n"
     ]
    },
    {
     "data": {
      "text/plain": [
       "True"
      ]
     },
     "execution_count": 23,
     "metadata": {},
     "output_type": "execute_result"
    }
   ],
   "source": [
    "nltk.download('stopwords')"
   ]
  },
  {
   "cell_type": "code",
   "execution_count": 24,
   "id": "ebfb6b09",
   "metadata": {},
   "outputs": [
    {
     "data": {
      "text/plain": [
       "['i',\n",
       " 'me',\n",
       " 'my',\n",
       " 'myself',\n",
       " 'we',\n",
       " 'our',\n",
       " 'ours',\n",
       " 'ourselves',\n",
       " 'you',\n",
       " \"you're\",\n",
       " \"you've\",\n",
       " \"you'll\",\n",
       " \"you'd\",\n",
       " 'your',\n",
       " 'yours',\n",
       " 'yourself',\n",
       " 'yourselves',\n",
       " 'he',\n",
       " 'him',\n",
       " 'his',\n",
       " 'himself',\n",
       " 'she',\n",
       " \"she's\",\n",
       " 'her',\n",
       " 'hers',\n",
       " 'herself',\n",
       " 'it',\n",
       " \"it's\",\n",
       " 'its',\n",
       " 'itself',\n",
       " 'they',\n",
       " 'them',\n",
       " 'their',\n",
       " 'theirs',\n",
       " 'themselves',\n",
       " 'what',\n",
       " 'which',\n",
       " 'who',\n",
       " 'whom',\n",
       " 'this',\n",
       " 'that',\n",
       " \"that'll\",\n",
       " 'these',\n",
       " 'those',\n",
       " 'am',\n",
       " 'is',\n",
       " 'are',\n",
       " 'was',\n",
       " 'were',\n",
       " 'be',\n",
       " 'been',\n",
       " 'being',\n",
       " 'have',\n",
       " 'has',\n",
       " 'had',\n",
       " 'having',\n",
       " 'do',\n",
       " 'does',\n",
       " 'did',\n",
       " 'doing',\n",
       " 'a',\n",
       " 'an',\n",
       " 'the',\n",
       " 'and',\n",
       " 'but',\n",
       " 'if',\n",
       " 'or',\n",
       " 'because',\n",
       " 'as',\n",
       " 'until',\n",
       " 'while',\n",
       " 'of',\n",
       " 'at',\n",
       " 'by',\n",
       " 'for',\n",
       " 'with',\n",
       " 'about',\n",
       " 'against',\n",
       " 'between',\n",
       " 'into',\n",
       " 'through',\n",
       " 'during',\n",
       " 'before',\n",
       " 'after',\n",
       " 'above',\n",
       " 'below',\n",
       " 'to',\n",
       " 'from',\n",
       " 'up',\n",
       " 'down',\n",
       " 'in',\n",
       " 'out',\n",
       " 'on',\n",
       " 'off',\n",
       " 'over',\n",
       " 'under',\n",
       " 'again',\n",
       " 'further',\n",
       " 'then',\n",
       " 'once',\n",
       " 'here',\n",
       " 'there',\n",
       " 'when',\n",
       " 'where',\n",
       " 'why',\n",
       " 'how',\n",
       " 'all',\n",
       " 'any',\n",
       " 'both',\n",
       " 'each',\n",
       " 'few',\n",
       " 'more',\n",
       " 'most',\n",
       " 'other',\n",
       " 'some',\n",
       " 'such',\n",
       " 'no',\n",
       " 'nor',\n",
       " 'not',\n",
       " 'only',\n",
       " 'own',\n",
       " 'same',\n",
       " 'so',\n",
       " 'than',\n",
       " 'too',\n",
       " 'very',\n",
       " 's',\n",
       " 't',\n",
       " 'can',\n",
       " 'will',\n",
       " 'just',\n",
       " 'don',\n",
       " \"don't\",\n",
       " 'should',\n",
       " \"should've\",\n",
       " 'now',\n",
       " 'd',\n",
       " 'll',\n",
       " 'm',\n",
       " 'o',\n",
       " 're',\n",
       " 've',\n",
       " 'y',\n",
       " 'ain',\n",
       " 'aren',\n",
       " \"aren't\",\n",
       " 'couldn',\n",
       " \"couldn't\",\n",
       " 'didn',\n",
       " \"didn't\",\n",
       " 'doesn',\n",
       " \"doesn't\",\n",
       " 'hadn',\n",
       " \"hadn't\",\n",
       " 'hasn',\n",
       " \"hasn't\",\n",
       " 'haven',\n",
       " \"haven't\",\n",
       " 'isn',\n",
       " \"isn't\",\n",
       " 'ma',\n",
       " 'mightn',\n",
       " \"mightn't\",\n",
       " 'mustn',\n",
       " \"mustn't\",\n",
       " 'needn',\n",
       " \"needn't\",\n",
       " 'shan',\n",
       " \"shan't\",\n",
       " 'shouldn',\n",
       " \"shouldn't\",\n",
       " 'wasn',\n",
       " \"wasn't\",\n",
       " 'weren',\n",
       " \"weren't\",\n",
       " 'won',\n",
       " \"won't\",\n",
       " 'wouldn',\n",
       " \"wouldn't\"]"
      ]
     },
     "execution_count": 24,
     "metadata": {},
     "output_type": "execute_result"
    }
   ],
   "source": [
    "stopwords.words('english')"
   ]
  },
  {
   "cell_type": "code",
   "execution_count": 25,
   "id": "061e5582",
   "metadata": {},
   "outputs": [
    {
     "name": "stdout",
     "output_type": "stream",
     "text": [
      "narendra\n",
      "damodarda\n",
      "modi\n",
      "gujarati\n",
      "n\n",
      "end\n",
      "mod\n",
      "modi\n",
      "born\n",
      "septemb\n",
      "b\n",
      "indian\n",
      "politician\n",
      "serv\n",
      "prime\n",
      "minist\n",
      "india\n",
      "sinc\n",
      "may\n",
      "modi\n",
      "chief\n",
      "minist\n",
      "gujarat\n",
      "member\n",
      "parliament\n",
      "mp\n",
      "varanasi\n",
      "member\n",
      "bharatiya\n",
      "janata\n",
      "parti\n",
      "bjp\n",
      "rashtriya\n",
      "swayamsevak\n",
      "sangh\n",
      "rss\n",
      "right\n",
      "wing\n",
      "hindu\n",
      "nationalist\n",
      "paramilitari\n",
      "volunt\n",
      "organis\n",
      "longest\n",
      "serv\n",
      "prime\n",
      "minist\n",
      "outsid\n",
      "indian\n",
      "nation\n",
      "congress\n",
      "modi\n",
      "born\n",
      "rais\n",
      "vadnagar\n",
      "northeastern\n",
      "gujarat\n",
      "complet\n",
      "secondari\n",
      "educ\n",
      "introduc\n",
      "rss\n",
      "age\n",
      "eight\n",
      "age\n",
      "marri\n",
      "jashodaben\n",
      "modi\n",
      "abandon\n",
      "soon\n",
      "publicli\n",
      "acknowledg\n",
      "four\n",
      "decad\n",
      "later\n",
      "legal\n",
      "requir\n",
      "modi\n",
      "becam\n",
      "full\n",
      "time\n",
      "worker\n",
      "rss\n",
      "gujarat\n",
      "rss\n",
      "assign\n",
      "bjp\n",
      "rose\n",
      "parti\n",
      "hierarchi\n",
      "becom\n",
      "gener\n",
      "secretari\n",
      "c\n",
      "modi\n",
      "appoint\n",
      "chief\n",
      "minist\n",
      "gujarat\n",
      "elect\n",
      "legisl\n",
      "assembl\n",
      "soon\n",
      "administr\n",
      "consid\n",
      "complicit\n",
      "gujarat\n",
      "riot\n",
      "criticis\n",
      "manag\n",
      "crisi\n",
      "accord\n",
      "offici\n",
      "record\n",
      "littl\n",
      "peopl\n",
      "kill\n",
      "three\n",
      "quarter\n",
      "muslim\n",
      "independ\n",
      "sourc\n",
      "estim\n",
      "death\n",
      "mostli\n",
      "muslim\n",
      "special\n",
      "investig\n",
      "team\n",
      "appoint\n",
      "suprem\n",
      "court\n",
      "india\n",
      "found\n",
      "evid\n",
      "initi\n",
      "prosecut\n",
      "proceed\n",
      "e\n",
      "polici\n",
      "chief\n",
      "minist\n",
      "credit\n",
      "encourag\n",
      "econom\n",
      "growth\n",
      "administr\n",
      "criticis\n",
      "fail\n",
      "significantli\n",
      "improv\n",
      "health\n",
      "poverti\n",
      "educ\n",
      "indic\n",
      "state\n",
      "f\n"
     ]
    }
   ],
   "source": [
    "## Applyting stemming on all lines - itrate over every line ; and then over every word in each line\n",
    "for i in corpus:\n",
    "    words=nltk.word_tokenize(i)\n",
    "    for word in words:\n",
    "        if word not in set(stopwords.words('english')):\n",
    "            print(stemmer.stem(word))"
   ]
  },
  {
   "cell_type": "code",
   "execution_count": 26,
   "id": "ac103ff7",
   "metadata": {},
   "outputs": [],
   "source": [
    "## lemmatization for all para "
   ]
  },
  {
   "cell_type": "code",
   "execution_count": 27,
   "id": "b2838982",
   "metadata": {},
   "outputs": [
    {
     "name": "stdout",
     "output_type": "stream",
     "text": [
      "narendra\n",
      "damodardas\n",
      "modi\n",
      "gujarati\n",
      "n\n",
      "end\n",
      "mod\n",
      "modi\n",
      "born\n",
      "september\n",
      "b\n",
      "indian\n",
      "politician\n",
      "served\n",
      "prime\n",
      "minister\n",
      "india\n",
      "since\n",
      "may\n",
      "modi\n",
      "chief\n",
      "minister\n",
      "gujarat\n",
      "member\n",
      "parliament\n",
      "mp\n",
      "varanasi\n",
      "member\n",
      "bharatiya\n",
      "janata\n",
      "party\n",
      "bjp\n",
      "rashtriya\n",
      "swayamsevak\n",
      "sangh\n",
      "r\n",
      "right\n",
      "wing\n",
      "hindu\n",
      "nationalist\n",
      "paramilitary\n",
      "volunteer\n",
      "organisation\n",
      "longest\n",
      "serving\n",
      "prime\n",
      "minister\n",
      "outside\n",
      "indian\n",
      "national\n",
      "congress\n",
      "modi\n",
      "born\n",
      "raised\n",
      "vadnagar\n",
      "northeastern\n",
      "gujarat\n",
      "completed\n",
      "secondary\n",
      "education\n",
      "introduced\n",
      "r\n",
      "age\n",
      "eight\n",
      "age\n",
      "married\n",
      "jashodaben\n",
      "modi\n",
      "abandoned\n",
      "soon\n",
      "publicly\n",
      "acknowledging\n",
      "four\n",
      "decade\n",
      "later\n",
      "legally\n",
      "required\n",
      "modi\n",
      "became\n",
      "full\n",
      "time\n",
      "worker\n",
      "r\n",
      "gujarat\n",
      "r\n",
      "assigned\n",
      "bjp\n",
      "rose\n",
      "party\n",
      "hierarchy\n",
      "becoming\n",
      "general\n",
      "secretary\n",
      "c\n",
      "modi\n",
      "appointed\n",
      "chief\n",
      "minister\n",
      "gujarat\n",
      "elected\n",
      "legislative\n",
      "assembly\n",
      "soon\n",
      "administration\n",
      "considered\n",
      "complicit\n",
      "gujarat\n",
      "riot\n",
      "criticised\n",
      "management\n",
      "crisis\n",
      "according\n",
      "official\n",
      "record\n",
      "little\n",
      "people\n",
      "killed\n",
      "three\n",
      "quarter\n",
      "muslim\n",
      "independent\n",
      "source\n",
      "estimated\n",
      "death\n",
      "mostly\n",
      "muslim\n",
      "special\n",
      "investigation\n",
      "team\n",
      "appointed\n",
      "supreme\n",
      "court\n",
      "india\n",
      "found\n",
      "evidence\n",
      "initiate\n",
      "prosecution\n",
      "proceeding\n",
      "e\n",
      "policy\n",
      "chief\n",
      "minister\n",
      "credited\n",
      "encouraging\n",
      "economic\n",
      "growth\n",
      "administration\n",
      "criticised\n",
      "failing\n",
      "significantly\n",
      "improve\n",
      "health\n",
      "poverty\n",
      "education\n",
      "index\n",
      "state\n",
      "f\n"
     ]
    }
   ],
   "source": [
    "for i in corpus:\n",
    "    words=nltk.word_tokenize(i)\n",
    "    for word in words:\n",
    "        if word not in set(stopwords.words('english')):\n",
    "            print(lemmatizer.lemmatize(word))"
   ]
  },
  {
   "cell_type": "code",
   "execution_count": 28,
   "id": "ecf28417",
   "metadata": {},
   "outputs": [],
   "source": [
    "## Apply stopwords.Lemmatize and removing stopwords from corpus\n",
    "import re \n",
    "corpus = []\n",
    "for i in range (len(sentences)):\n",
    "    review=re.sub('[^a-zA-Z]', ' ', sentences[i])\n",
    "    review=review.lower()\n",
    "    review=review.split()\n",
    "    review=[lemmatizer.lemmatize(word) for word in review if not word in set(stopwords.words('english'))]\n",
    "    review= ' '.join(review)\n",
    "    corpus.append(review)"
   ]
  },
  {
   "cell_type": "code",
   "execution_count": 29,
   "id": "3d1bc1f7",
   "metadata": {},
   "outputs": [],
   "source": [
    "## BOW - bag of words - we use countvectorizer from sklearn\n",
    "\n",
    "from sklearn.feature_extraction.text import CountVectorizer\n",
    "cv=CountVectorizer()"
   ]
  },
  {
   "cell_type": "code",
   "execution_count": 30,
   "id": "af642223",
   "metadata": {},
   "outputs": [],
   "source": [
    "## applying to our corpus\n",
    "X=cv.fit_transform(corpus)"
   ]
  },
  {
   "cell_type": "code",
   "execution_count": 31,
   "id": "d011d6ff",
   "metadata": {},
   "outputs": [
    {
     "data": {
      "text/plain": [
       "{'narendra': 70,\n",
       " 'damodardas': 22,\n",
       " 'modi': 66,\n",
       " 'gujarati': 40,\n",
       " 'end': 30,\n",
       " 'mod': 65,\n",
       " 'born': 12,\n",
       " 'september': 99,\n",
       " 'indian': 48,\n",
       " 'politician': 82,\n",
       " 'served': 100,\n",
       " 'prime': 84,\n",
       " 'minister': 64,\n",
       " 'india': 47,\n",
       " 'since': 103,\n",
       " 'may': 62,\n",
       " 'chief': 13,\n",
       " 'gujarat': 39,\n",
       " 'member': 63,\n",
       " 'parliament': 78,\n",
       " 'mp': 68,\n",
       " 'varanasi': 114,\n",
       " 'bharatiya': 10,\n",
       " 'janata': 52,\n",
       " 'party': 79,\n",
       " 'bjp': 11,\n",
       " 'rashtriya': 90,\n",
       " 'swayamsevak': 109,\n",
       " 'sangh': 96,\n",
       " 'right': 93,\n",
       " 'wing': 116,\n",
       " 'hindu': 43,\n",
       " 'nationalist': 72,\n",
       " 'paramilitary': 77,\n",
       " 'volunteer': 115,\n",
       " 'organisation': 75,\n",
       " 'longest': 59,\n",
       " 'serving': 101,\n",
       " 'outside': 76,\n",
       " 'national': 71,\n",
       " 'congress': 16,\n",
       " 'raised': 89,\n",
       " 'vadnagar': 113,\n",
       " 'northeastern': 73,\n",
       " 'completed': 14,\n",
       " 'secondary': 97,\n",
       " 'education': 26,\n",
       " 'introduced': 50,\n",
       " 'age': 4,\n",
       " 'eight': 27,\n",
       " 'married': 61,\n",
       " 'jashodaben': 53,\n",
       " 'abandoned': 0,\n",
       " 'soon': 104,\n",
       " 'publicly': 87,\n",
       " 'acknowledging': 2,\n",
       " 'four': 35,\n",
       " 'decade': 24,\n",
       " 'later': 55,\n",
       " 'legally': 56,\n",
       " 'required': 92,\n",
       " 'became': 8,\n",
       " 'full': 36,\n",
       " 'time': 112,\n",
       " 'worker': 117,\n",
       " 'assigned': 7,\n",
       " 'rose': 95,\n",
       " 'hierarchy': 42,\n",
       " 'becoming': 9,\n",
       " 'general': 37,\n",
       " 'secretary': 98,\n",
       " 'appointed': 5,\n",
       " 'elected': 28,\n",
       " 'legislative': 57,\n",
       " 'assembly': 6,\n",
       " 'administration': 3,\n",
       " 'considered': 17,\n",
       " 'complicit': 15,\n",
       " 'riot': 94,\n",
       " 'criticised': 21,\n",
       " 'management': 60,\n",
       " 'crisis': 20,\n",
       " 'according': 1,\n",
       " 'official': 74,\n",
       " 'record': 91,\n",
       " 'little': 58,\n",
       " 'people': 80,\n",
       " 'killed': 54,\n",
       " 'three': 111,\n",
       " 'quarter': 88,\n",
       " 'muslim': 69,\n",
       " 'independent': 45,\n",
       " 'source': 105,\n",
       " 'estimated': 31,\n",
       " 'death': 23,\n",
       " 'mostly': 67,\n",
       " 'special': 106,\n",
       " 'investigation': 51,\n",
       " 'team': 110,\n",
       " 'supreme': 108,\n",
       " 'court': 18,\n",
       " 'found': 34,\n",
       " 'evidence': 32,\n",
       " 'initiate': 49,\n",
       " 'prosecution': 86,\n",
       " 'proceeding': 85,\n",
       " 'policy': 81,\n",
       " 'credited': 19,\n",
       " 'encouraging': 29,\n",
       " 'economic': 25,\n",
       " 'growth': 38,\n",
       " 'failing': 33,\n",
       " 'significantly': 102,\n",
       " 'improve': 44,\n",
       " 'health': 41,\n",
       " 'poverty': 83,\n",
       " 'index': 46,\n",
       " 'state': 107}"
      ]
     },
     "execution_count": 31,
     "metadata": {},
     "output_type": "execute_result"
    }
   ],
   "source": [
    "cv.vocabulary_"
   ]
  },
  {
   "cell_type": "code",
   "execution_count": 32,
   "id": "add40c37",
   "metadata": {},
   "outputs": [
    {
     "data": {
      "text/plain": [
       "'narendra damodardas modi gujarati n end mod modi born september b indian politician served prime minister india since may'"
      ]
     },
     "execution_count": 32,
     "metadata": {},
     "output_type": "execute_result"
    }
   ],
   "source": [
    "## first document\n",
    "corpus[0]"
   ]
  },
  {
   "cell_type": "code",
   "execution_count": 33,
   "id": "a852aece",
   "metadata": {},
   "outputs": [
    {
     "data": {
      "text/plain": [
       "array([[0, 0, 0, 0, 0, 0, 0, 0, 0, 0, 0, 0, 1, 0, 0, 0, 0, 0, 0, 0, 0, 0,\n",
       "        1, 0, 0, 0, 0, 0, 0, 0, 1, 0, 0, 0, 0, 0, 0, 0, 0, 0, 1, 0, 0, 0,\n",
       "        0, 0, 0, 1, 1, 0, 0, 0, 0, 0, 0, 0, 0, 0, 0, 0, 0, 0, 1, 0, 1, 1,\n",
       "        2, 0, 0, 0, 1, 0, 0, 0, 0, 0, 0, 0, 0, 0, 0, 0, 1, 0, 1, 0, 0, 0,\n",
       "        0, 0, 0, 0, 0, 0, 0, 0, 0, 0, 0, 1, 1, 0, 0, 1, 0, 0, 0, 0, 0, 0,\n",
       "        0, 0, 0, 0, 0, 0, 0, 0]], dtype=int64)"
      ]
     },
     "execution_count": 33,
     "metadata": {},
     "output_type": "execute_result"
    }
   ],
   "source": [
    "## to see BOW for doc 0 - will show us the index or feature number or word number below\n",
    "X[0].toarray()"
   ]
  },
  {
   "cell_type": "code",
   "execution_count": 34,
   "id": "b661fd33",
   "metadata": {},
   "outputs": [],
   "source": [
    "## to convert to binary  BOW\n",
    "cv=CountVectorizer(binary=True)"
   ]
  },
  {
   "cell_type": "code",
   "execution_count": 35,
   "id": "265b8890",
   "metadata": {},
   "outputs": [],
   "source": [
    "\n",
    "X=cv.fit_transform(corpus)"
   ]
  },
  {
   "cell_type": "code",
   "execution_count": 36,
   "id": "94fc9ae9",
   "metadata": {},
   "outputs": [
    {
     "data": {
      "text/plain": [
       "{'narendra': 70,\n",
       " 'damodardas': 22,\n",
       " 'modi': 66,\n",
       " 'gujarati': 40,\n",
       " 'end': 30,\n",
       " 'mod': 65,\n",
       " 'born': 12,\n",
       " 'september': 99,\n",
       " 'indian': 48,\n",
       " 'politician': 82,\n",
       " 'served': 100,\n",
       " 'prime': 84,\n",
       " 'minister': 64,\n",
       " 'india': 47,\n",
       " 'since': 103,\n",
       " 'may': 62,\n",
       " 'chief': 13,\n",
       " 'gujarat': 39,\n",
       " 'member': 63,\n",
       " 'parliament': 78,\n",
       " 'mp': 68,\n",
       " 'varanasi': 114,\n",
       " 'bharatiya': 10,\n",
       " 'janata': 52,\n",
       " 'party': 79,\n",
       " 'bjp': 11,\n",
       " 'rashtriya': 90,\n",
       " 'swayamsevak': 109,\n",
       " 'sangh': 96,\n",
       " 'right': 93,\n",
       " 'wing': 116,\n",
       " 'hindu': 43,\n",
       " 'nationalist': 72,\n",
       " 'paramilitary': 77,\n",
       " 'volunteer': 115,\n",
       " 'organisation': 75,\n",
       " 'longest': 59,\n",
       " 'serving': 101,\n",
       " 'outside': 76,\n",
       " 'national': 71,\n",
       " 'congress': 16,\n",
       " 'raised': 89,\n",
       " 'vadnagar': 113,\n",
       " 'northeastern': 73,\n",
       " 'completed': 14,\n",
       " 'secondary': 97,\n",
       " 'education': 26,\n",
       " 'introduced': 50,\n",
       " 'age': 4,\n",
       " 'eight': 27,\n",
       " 'married': 61,\n",
       " 'jashodaben': 53,\n",
       " 'abandoned': 0,\n",
       " 'soon': 104,\n",
       " 'publicly': 87,\n",
       " 'acknowledging': 2,\n",
       " 'four': 35,\n",
       " 'decade': 24,\n",
       " 'later': 55,\n",
       " 'legally': 56,\n",
       " 'required': 92,\n",
       " 'became': 8,\n",
       " 'full': 36,\n",
       " 'time': 112,\n",
       " 'worker': 117,\n",
       " 'assigned': 7,\n",
       " 'rose': 95,\n",
       " 'hierarchy': 42,\n",
       " 'becoming': 9,\n",
       " 'general': 37,\n",
       " 'secretary': 98,\n",
       " 'appointed': 5,\n",
       " 'elected': 28,\n",
       " 'legislative': 57,\n",
       " 'assembly': 6,\n",
       " 'administration': 3,\n",
       " 'considered': 17,\n",
       " 'complicit': 15,\n",
       " 'riot': 94,\n",
       " 'criticised': 21,\n",
       " 'management': 60,\n",
       " 'crisis': 20,\n",
       " 'according': 1,\n",
       " 'official': 74,\n",
       " 'record': 91,\n",
       " 'little': 58,\n",
       " 'people': 80,\n",
       " 'killed': 54,\n",
       " 'three': 111,\n",
       " 'quarter': 88,\n",
       " 'muslim': 69,\n",
       " 'independent': 45,\n",
       " 'source': 105,\n",
       " 'estimated': 31,\n",
       " 'death': 23,\n",
       " 'mostly': 67,\n",
       " 'special': 106,\n",
       " 'investigation': 51,\n",
       " 'team': 110,\n",
       " 'supreme': 108,\n",
       " 'court': 18,\n",
       " 'found': 34,\n",
       " 'evidence': 32,\n",
       " 'initiate': 49,\n",
       " 'prosecution': 86,\n",
       " 'proceeding': 85,\n",
       " 'policy': 81,\n",
       " 'credited': 19,\n",
       " 'encouraging': 29,\n",
       " 'economic': 25,\n",
       " 'growth': 38,\n",
       " 'failing': 33,\n",
       " 'significantly': 102,\n",
       " 'improve': 44,\n",
       " 'health': 41,\n",
       " 'poverty': 83,\n",
       " 'index': 46,\n",
       " 'state': 107}"
      ]
     },
     "execution_count": 36,
     "metadata": {},
     "output_type": "execute_result"
    }
   ],
   "source": [
    "## this method gives word-index mapping\n",
    "cv.vocabulary_"
   ]
  },
  {
   "cell_type": "code",
   "execution_count": 37,
   "id": "b808450b",
   "metadata": {},
   "outputs": [
    {
     "data": {
      "text/plain": [
       "array([[0, 0, 0, 0, 0, 0, 0, 0, 0, 0, 0, 0, 1, 0, 0, 0, 0, 0, 0, 0, 0, 0,\n",
       "        1, 0, 0, 0, 0, 0, 0, 0, 1, 0, 0, 0, 0, 0, 0, 0, 0, 0, 1, 0, 0, 0,\n",
       "        0, 0, 0, 1, 1, 0, 0, 0, 0, 0, 0, 0, 0, 0, 0, 0, 0, 0, 1, 0, 1, 1,\n",
       "        1, 0, 0, 0, 1, 0, 0, 0, 0, 0, 0, 0, 0, 0, 0, 0, 1, 0, 1, 0, 0, 0,\n",
       "        0, 0, 0, 0, 0, 0, 0, 0, 0, 0, 0, 1, 1, 0, 0, 1, 0, 0, 0, 0, 0, 0,\n",
       "        0, 0, 0, 0, 0, 0, 0, 0]], dtype=int64)"
      ]
     },
     "execution_count": 37,
     "metadata": {},
     "output_type": "execute_result"
    }
   ],
   "source": [
    "X[0].toarray()"
   ]
  },
  {
   "cell_type": "code",
   "execution_count": 38,
   "id": "6091927d",
   "metadata": {},
   "outputs": [],
   "source": [
    "### NLP Day 2 - text preprocessing cont..."
   ]
  },
  {
   "cell_type": "code",
   "execution_count": 39,
   "id": "1675889e",
   "metadata": {},
   "outputs": [],
   "source": [
    "## to convert to binary  BOW and tri-grams\n",
    "cv=CountVectorizer(binary=True, ngram_range=(3,3))"
   ]
  },
  {
   "cell_type": "code",
   "execution_count": 40,
   "id": "7f417765",
   "metadata": {},
   "outputs": [],
   "source": [
    "X=cv.fit_transform(corpus)"
   ]
  },
  {
   "cell_type": "code",
   "execution_count": 41,
   "id": "9e5d2e5e",
   "metadata": {},
   "outputs": [
    {
     "data": {
      "text/plain": [
       "{'narendra damodardas modi': 81,\n",
       " 'damodardas modi gujarati': 25,\n",
       " 'modi gujarati end': 79,\n",
       " 'gujarati end mod': 44,\n",
       " 'end mod modi': 32,\n",
       " 'mod modi born': 72,\n",
       " 'modi born september': 77,\n",
       " 'born september indian': 15,\n",
       " 'september indian politician': 105,\n",
       " 'indian politician served': 53,\n",
       " 'politician served prime': 92,\n",
       " 'served prime minister': 106,\n",
       " 'prime minister india': 94,\n",
       " 'minister india since': 70,\n",
       " 'india since may': 51,\n",
       " 'modi chief minister': 78,\n",
       " 'chief minister gujarat': 17,\n",
       " 'minister gujarat member': 69,\n",
       " 'gujarat member parliament': 42,\n",
       " 'member parliament mp': 66,\n",
       " 'parliament mp varanasi': 87,\n",
       " 'member bharatiya janata': 65,\n",
       " 'bharatiya janata party': 11,\n",
       " 'janata party bjp': 57,\n",
       " 'party bjp rashtriya': 88,\n",
       " 'bjp rashtriya swayamsevak': 12,\n",
       " 'rashtriya swayamsevak sangh': 99,\n",
       " 'swayamsevak sangh right': 113,\n",
       " 'sangh right wing': 104,\n",
       " 'right wing hindu': 101,\n",
       " 'wing hindu nationalist': 118,\n",
       " 'hindu nationalist paramilitary': 47,\n",
       " 'nationalist paramilitary volunteer': 82,\n",
       " 'paramilitary volunteer organisation': 86,\n",
       " 'longest serving prime': 63,\n",
       " 'serving prime minister': 107,\n",
       " 'prime minister outside': 95,\n",
       " 'minister outside indian': 71,\n",
       " 'outside indian national': 85,\n",
       " 'indian national congress': 52,\n",
       " 'modi born raised': 76,\n",
       " 'born raised vadnagar': 14,\n",
       " 'raised vadnagar northeastern': 98,\n",
       " 'vadnagar northeastern gujarat': 117,\n",
       " 'northeastern gujarat completed': 83,\n",
       " 'gujarat completed secondary': 40,\n",
       " 'completed secondary education': 18,\n",
       " 'introduced age eight': 55,\n",
       " 'age married jashodaben': 5,\n",
       " 'married jashodaben modi': 64,\n",
       " 'jashodaben modi abandoned': 58,\n",
       " 'modi abandoned soon': 73,\n",
       " 'abandoned soon publicly': 0,\n",
       " 'soon publicly acknowledging': 109,\n",
       " 'publicly acknowledging four': 96,\n",
       " 'acknowledging four decade': 2,\n",
       " 'four decade later': 37,\n",
       " 'decade later legally': 27,\n",
       " 'later legally required': 60,\n",
       " 'modi became full': 75,\n",
       " 'became full time': 9,\n",
       " 'full time worker': 38,\n",
       " 'time worker gujarat': 116,\n",
       " 'assigned bjp rose': 8,\n",
       " 'bjp rose party': 13,\n",
       " 'rose party hierarchy': 103,\n",
       " 'party hierarchy becoming': 89,\n",
       " 'hierarchy becoming general': 46,\n",
       " 'becoming general secretary': 10,\n",
       " 'modi appointed chief': 74,\n",
       " 'appointed chief minister': 6,\n",
       " 'minister gujarat elected': 68,\n",
       " 'gujarat elected legislative': 41,\n",
       " 'elected legislative assembly': 30,\n",
       " 'legislative assembly soon': 61,\n",
       " 'administration considered complicit': 3,\n",
       " 'considered complicit gujarat': 20,\n",
       " 'complicit gujarat riot': 19,\n",
       " 'gujarat riot criticised': 43,\n",
       " 'riot criticised management': 102,\n",
       " 'criticised management crisis': 24,\n",
       " 'according official record': 1,\n",
       " 'official record little': 84,\n",
       " 'record little people': 100,\n",
       " 'little people killed': 62,\n",
       " 'people killed three': 90,\n",
       " 'killed three quarter': 59,\n",
       " 'three quarter muslim': 115,\n",
       " 'quarter muslim independent': 97,\n",
       " 'muslim independent source': 80,\n",
       " 'independent source estimated': 49,\n",
       " 'source estimated death': 110,\n",
       " 'estimated death mostly': 33,\n",
       " 'death mostly muslim': 26,\n",
       " 'special investigation team': 111,\n",
       " 'investigation team appointed': 56,\n",
       " 'team appointed supreme': 114,\n",
       " 'appointed supreme court': 7,\n",
       " 'supreme court india': 112,\n",
       " 'court india found': 21,\n",
       " 'india found evidence': 50,\n",
       " 'found evidence initiate': 36,\n",
       " 'evidence initiate prosecution': 34,\n",
       " 'initiate prosecution proceeding': 54,\n",
       " 'policy chief minister': 91,\n",
       " 'chief minister credited': 16,\n",
       " 'minister credited encouraging': 67,\n",
       " 'credited encouraging economic': 22,\n",
       " 'encouraging economic growth': 31,\n",
       " 'economic growth administration': 28,\n",
       " 'growth administration criticised': 39,\n",
       " 'administration criticised failing': 4,\n",
       " 'criticised failing significantly': 23,\n",
       " 'failing significantly improve': 35,\n",
       " 'significantly improve health': 108,\n",
       " 'improve health poverty': 48,\n",
       " 'health poverty education': 45,\n",
       " 'poverty education index': 93,\n",
       " 'education index state': 29}"
      ]
     },
     "execution_count": 41,
     "metadata": {},
     "output_type": "execute_result"
    }
   ],
   "source": [
    "cv.vocabulary_"
   ]
  },
  {
   "cell_type": "code",
   "execution_count": 42,
   "id": "7bebf4bb",
   "metadata": {},
   "outputs": [],
   "source": [
    "## to see bi-gram and tri-gram\n",
    "cv=CountVectorizer(binary=True, ngram_range=(2,3))"
   ]
  },
  {
   "cell_type": "code",
   "execution_count": 43,
   "id": "ff70b57a",
   "metadata": {},
   "outputs": [],
   "source": [
    "X=cv.fit_transform(corpus)"
   ]
  },
  {
   "cell_type": "code",
   "execution_count": 44,
   "id": "038abd42",
   "metadata": {},
   "outputs": [
    {
     "data": {
      "text/plain": [
       "{'narendra damodardas': 167,\n",
       " 'damodardas modi': 51,\n",
       " 'modi gujarati': 161,\n",
       " 'gujarati end': 90,\n",
       " 'end mod': 65,\n",
       " 'mod modi': 148,\n",
       " 'modi born': 156,\n",
       " 'born september': 32,\n",
       " 'september indian': 217,\n",
       " 'indian politician': 109,\n",
       " 'politician served': 190,\n",
       " 'served prime': 219,\n",
       " 'prime minister': 194,\n",
       " 'minister india': 144,\n",
       " 'india since': 105,\n",
       " 'since may': 225,\n",
       " 'narendra damodardas modi': 168,\n",
       " 'damodardas modi gujarati': 52,\n",
       " 'modi gujarati end': 162,\n",
       " 'gujarati end mod': 91,\n",
       " 'end mod modi': 66,\n",
       " 'mod modi born': 149,\n",
       " 'modi born september': 158,\n",
       " 'born september indian': 33,\n",
       " 'september indian politician': 218,\n",
       " 'indian politician served': 110,\n",
       " 'politician served prime': 191,\n",
       " 'served prime minister': 220,\n",
       " 'prime minister india': 195,\n",
       " 'minister india since': 145,\n",
       " 'india since may': 106,\n",
       " 'modi chief': 159,\n",
       " 'chief minister': 34,\n",
       " 'minister gujarat': 141,\n",
       " 'gujarat member': 86,\n",
       " 'member parliament': 137,\n",
       " 'parliament mp': 180,\n",
       " 'mp varanasi': 164,\n",
       " 'modi chief minister': 160,\n",
       " 'chief minister gujarat': 36,\n",
       " 'minister gujarat member': 143,\n",
       " 'gujarat member parliament': 87,\n",
       " 'member parliament mp': 138,\n",
       " 'parliament mp varanasi': 181,\n",
       " 'member bharatiya': 135,\n",
       " 'bharatiya janata': 24,\n",
       " 'janata party': 117,\n",
       " 'party bjp': 182,\n",
       " 'bjp rashtriya': 26,\n",
       " 'rashtriya swayamsevak': 204,\n",
       " 'swayamsevak sangh': 234,\n",
       " 'sangh right': 214,\n",
       " 'right wing': 208,\n",
       " 'wing hindu': 245,\n",
       " 'hindu nationalist': 96,\n",
       " 'nationalist paramilitary': 170,\n",
       " 'paramilitary volunteer': 178,\n",
       " 'volunteer organisation': 244,\n",
       " 'member bharatiya janata': 136,\n",
       " 'bharatiya janata party': 25,\n",
       " 'janata party bjp': 118,\n",
       " 'party bjp rashtriya': 183,\n",
       " 'bjp rashtriya swayamsevak': 27,\n",
       " 'rashtriya swayamsevak sangh': 205,\n",
       " 'swayamsevak sangh right': 235,\n",
       " 'sangh right wing': 215,\n",
       " 'right wing hindu': 209,\n",
       " 'wing hindu nationalist': 246,\n",
       " 'hindu nationalist paramilitary': 97,\n",
       " 'nationalist paramilitary volunteer': 171,\n",
       " 'paramilitary volunteer organisation': 179,\n",
       " 'longest serving': 130,\n",
       " 'serving prime': 221,\n",
       " 'minister outside': 146,\n",
       " 'outside indian': 176,\n",
       " 'indian national': 107,\n",
       " 'national congress': 169,\n",
       " 'longest serving prime': 131,\n",
       " 'serving prime minister': 222,\n",
       " 'prime minister outside': 196,\n",
       " 'minister outside indian': 147,\n",
       " 'outside indian national': 177,\n",
       " 'indian national congress': 108,\n",
       " 'born raised': 30,\n",
       " 'raised vadnagar': 202,\n",
       " 'vadnagar northeastern': 242,\n",
       " 'northeastern gujarat': 172,\n",
       " 'gujarat completed': 82,\n",
       " 'completed secondary': 37,\n",
       " 'secondary education': 216,\n",
       " 'modi born raised': 157,\n",
       " 'born raised vadnagar': 31,\n",
       " 'raised vadnagar northeastern': 203,\n",
       " 'vadnagar northeastern gujarat': 243,\n",
       " 'northeastern gujarat completed': 173,\n",
       " 'gujarat completed secondary': 83,\n",
       " 'completed secondary education': 38,\n",
       " 'introduced age': 113,\n",
       " 'age eight': 10,\n",
       " 'introduced age eight': 114,\n",
       " 'age married': 11,\n",
       " 'married jashodaben': 133,\n",
       " 'jashodaben modi': 119,\n",
       " 'modi abandoned': 150,\n",
       " 'abandoned soon': 0,\n",
       " 'soon publicly': 226,\n",
       " 'publicly acknowledging': 198,\n",
       " 'acknowledging four': 4,\n",
       " 'four decade': 75,\n",
       " 'decade later': 55,\n",
       " 'later legally': 123,\n",
       " 'legally required': 125,\n",
       " 'age married jashodaben': 12,\n",
       " 'married jashodaben modi': 134,\n",
       " 'jashodaben modi abandoned': 120,\n",
       " 'modi abandoned soon': 151,\n",
       " 'abandoned soon publicly': 1,\n",
       " 'soon publicly acknowledging': 227,\n",
       " 'publicly acknowledging four': 199,\n",
       " 'acknowledging four decade': 5,\n",
       " 'four decade later': 76,\n",
       " 'decade later legally': 56,\n",
       " 'later legally required': 124,\n",
       " 'modi became': 154,\n",
       " 'became full': 20,\n",
       " 'full time': 77,\n",
       " 'time worker': 240,\n",
       " 'worker gujarat': 247,\n",
       " 'modi became full': 155,\n",
       " 'became full time': 21,\n",
       " 'full time worker': 78,\n",
       " 'time worker gujarat': 241,\n",
       " 'assigned bjp': 18,\n",
       " 'bjp rose': 28,\n",
       " 'rose party': 212,\n",
       " 'party hierarchy': 184,\n",
       " 'hierarchy becoming': 94,\n",
       " 'becoming general': 22,\n",
       " 'general secretary': 79,\n",
       " 'assigned bjp rose': 19,\n",
       " 'bjp rose party': 29,\n",
       " 'rose party hierarchy': 213,\n",
       " 'party hierarchy becoming': 185,\n",
       " 'hierarchy becoming general': 95,\n",
       " 'becoming general secretary': 23,\n",
       " 'modi appointed': 152,\n",
       " 'appointed chief': 13,\n",
       " 'gujarat elected': 84,\n",
       " 'elected legislative': 61,\n",
       " 'legislative assembly': 126,\n",
       " 'assembly soon': 17,\n",
       " 'modi appointed chief': 153,\n",
       " 'appointed chief minister': 14,\n",
       " 'minister gujarat elected': 142,\n",
       " 'gujarat elected legislative': 85,\n",
       " 'elected legislative assembly': 62,\n",
       " 'legislative assembly soon': 127,\n",
       " 'administration considered': 6,\n",
       " 'considered complicit': 41,\n",
       " 'complicit gujarat': 39,\n",
       " 'gujarat riot': 88,\n",
       " 'riot criticised': 210,\n",
       " 'criticised management': 49,\n",
       " 'management crisis': 132,\n",
       " 'administration considered complicit': 7,\n",
       " 'considered complicit gujarat': 42,\n",
       " 'complicit gujarat riot': 40,\n",
       " 'gujarat riot criticised': 89,\n",
       " 'riot criticised management': 211,\n",
       " 'criticised management crisis': 50,\n",
       " 'according official': 2,\n",
       " 'official record': 174,\n",
       " 'record little': 206,\n",
       " 'little people': 128,\n",
       " 'people killed': 186,\n",
       " 'killed three': 121,\n",
       " 'three quarter': 238,\n",
       " 'quarter muslim': 200,\n",
       " 'muslim independent': 165,\n",
       " 'independent source': 100,\n",
       " 'source estimated': 228,\n",
       " 'estimated death': 67,\n",
       " 'death mostly': 53,\n",
       " 'mostly muslim': 163,\n",
       " 'according official record': 3,\n",
       " 'official record little': 175,\n",
       " 'record little people': 207,\n",
       " 'little people killed': 129,\n",
       " 'people killed three': 187,\n",
       " 'killed three quarter': 122,\n",
       " 'three quarter muslim': 239,\n",
       " 'quarter muslim independent': 201,\n",
       " 'muslim independent source': 166,\n",
       " 'independent source estimated': 101,\n",
       " 'source estimated death': 229,\n",
       " 'estimated death mostly': 68,\n",
       " 'death mostly muslim': 54,\n",
       " 'special investigation': 230,\n",
       " 'investigation team': 115,\n",
       " 'team appointed': 236,\n",
       " 'appointed supreme': 15,\n",
       " 'supreme court': 232,\n",
       " 'court india': 43,\n",
       " 'india found': 103,\n",
       " 'found evidence': 73,\n",
       " 'evidence initiate': 69,\n",
       " 'initiate prosecution': 111,\n",
       " 'prosecution proceeding': 197,\n",
       " 'special investigation team': 231,\n",
       " 'investigation team appointed': 116,\n",
       " 'team appointed supreme': 237,\n",
       " 'appointed supreme court': 16,\n",
       " 'supreme court india': 233,\n",
       " 'court india found': 44,\n",
       " 'india found evidence': 104,\n",
       " 'found evidence initiate': 74,\n",
       " 'evidence initiate prosecution': 70,\n",
       " 'initiate prosecution proceeding': 112,\n",
       " 'policy chief': 188,\n",
       " 'minister credited': 139,\n",
       " 'credited encouraging': 45,\n",
       " 'encouraging economic': 63,\n",
       " 'economic growth': 57,\n",
       " 'growth administration': 80,\n",
       " 'administration criticised': 8,\n",
       " 'criticised failing': 47,\n",
       " 'failing significantly': 71,\n",
       " 'significantly improve': 223,\n",
       " 'improve health': 98,\n",
       " 'health poverty': 92,\n",
       " 'poverty education': 192,\n",
       " 'education index': 59,\n",
       " 'index state': 102,\n",
       " 'policy chief minister': 189,\n",
       " 'chief minister credited': 35,\n",
       " 'minister credited encouraging': 140,\n",
       " 'credited encouraging economic': 46,\n",
       " 'encouraging economic growth': 64,\n",
       " 'economic growth administration': 58,\n",
       " 'growth administration criticised': 81,\n",
       " 'administration criticised failing': 9,\n",
       " 'criticised failing significantly': 48,\n",
       " 'failing significantly improve': 72,\n",
       " 'significantly improve health': 224,\n",
       " 'improve health poverty': 99,\n",
       " 'health poverty education': 93,\n",
       " 'poverty education index': 193,\n",
       " 'education index state': 60}"
      ]
     },
     "execution_count": 44,
     "metadata": {},
     "output_type": "execute_result"
    }
   ],
   "source": [
    "cv.vocabulary_"
   ]
  },
  {
   "cell_type": "code",
   "execution_count": 45,
   "id": "0e45f23d",
   "metadata": {},
   "outputs": [
    {
     "data": {
      "text/plain": [
       "'narendra damodardas modi gujarati n end mod modi born september b indian politician served prime minister india since may'"
      ]
     },
     "execution_count": 45,
     "metadata": {},
     "output_type": "execute_result"
    }
   ],
   "source": [
    "corpus[0]"
   ]
  },
  {
   "cell_type": "code",
   "execution_count": 46,
   "id": "65df594d",
   "metadata": {},
   "outputs": [
    {
     "data": {
      "text/plain": [
       "array([[0, 0, 0, 0, 0, 0, 0, 0, 0, 0, 0, 0, 0, 0, 0, 0, 0, 0, 0, 0, 0, 0,\n",
       "        0, 0, 0, 0, 0, 0, 0, 0, 0, 0, 1, 1, 0, 0, 0, 0, 0, 0, 0, 0, 0, 0,\n",
       "        0, 0, 0, 0, 0, 0, 0, 1, 1, 0, 0, 0, 0, 0, 0, 0, 0, 0, 0, 0, 0, 1,\n",
       "        1, 0, 0, 0, 0, 0, 0, 0, 0, 0, 0, 0, 0, 0, 0, 0, 0, 0, 0, 0, 0, 0,\n",
       "        0, 0, 1, 1, 0, 0, 0, 0, 0, 0, 0, 0, 0, 0, 0, 0, 0, 1, 1, 0, 0, 1,\n",
       "        1, 0, 0, 0, 0, 0, 0, 0, 0, 0, 0, 0, 0, 0, 0, 0, 0, 0, 0, 0, 0, 0,\n",
       "        0, 0, 0, 0, 0, 0, 0, 0, 0, 0, 0, 0, 1, 1, 0, 0, 1, 1, 0, 0, 0, 0,\n",
       "        0, 0, 1, 0, 1, 0, 0, 1, 1, 0, 0, 0, 0, 1, 1, 0, 0, 0, 0, 0, 0, 0,\n",
       "        0, 0, 0, 0, 0, 0, 0, 0, 0, 0, 0, 0, 0, 0, 1, 1, 0, 0, 1, 1, 0, 0,\n",
       "        0, 0, 0, 0, 0, 0, 0, 0, 0, 0, 0, 0, 0, 0, 0, 0, 0, 0, 0, 1, 1, 1,\n",
       "        1, 0, 0, 0, 0, 1, 0, 0, 0, 0, 0, 0, 0, 0, 0, 0, 0, 0, 0, 0, 0, 0,\n",
       "        0, 0, 0, 0, 0, 0]], dtype=int64)"
      ]
     },
     "execution_count": 46,
     "metadata": {},
     "output_type": "execute_result"
    }
   ],
   "source": [
    "X[0].toarray()"
   ]
  },
  {
   "cell_type": "code",
   "execution_count": 47,
   "id": "4d76257e",
   "metadata": {},
   "outputs": [],
   "source": [
    "### TFIDF\n",
    "from sklearn.feature_extraction.text import TfidfVectorizer\n",
    "cv=TfidfVectorizer()\n",
    "X=cv.fit_transform(corpus)"
   ]
  },
  {
   "cell_type": "code",
   "execution_count": 48,
   "id": "e4c6f5bf",
   "metadata": {},
   "outputs": [
    {
     "data": {
      "text/plain": [
       "'narendra damodardas modi gujarati n end mod modi born september b indian politician served prime minister india since may'"
      ]
     },
     "execution_count": 48,
     "metadata": {},
     "output_type": "execute_result"
    }
   ],
   "source": [
    "corpus[0]"
   ]
  },
  {
   "cell_type": "code",
   "execution_count": 51,
   "id": "8c23a15a",
   "metadata": {},
   "outputs": [
    {
     "data": {
      "text/plain": [
       "array([[0.        , 0.        , 0.        , 0.        , 0.        ,\n",
       "        0.        , 0.        , 0.        , 0.        , 0.        ,\n",
       "        0.        , 0.        , 0.22542866, 0.        , 0.        ,\n",
       "        0.        , 0.        , 0.        , 0.        , 0.        ,\n",
       "        0.        , 0.        , 0.25961126, 0.        , 0.        ,\n",
       "        0.        , 0.        , 0.        , 0.        , 0.        ,\n",
       "        0.25961126, 0.        , 0.        , 0.        , 0.        ,\n",
       "        0.        , 0.        , 0.        , 0.        , 0.        ,\n",
       "        0.25961126, 0.        , 0.        , 0.        , 0.        ,\n",
       "        0.        , 0.        , 0.22542866, 0.22542866, 0.        ,\n",
       "        0.        , 0.        , 0.        , 0.        , 0.        ,\n",
       "        0.        , 0.        , 0.        , 0.        , 0.        ,\n",
       "        0.        , 0.        , 0.25961126, 0.        , 0.16699313,\n",
       "        0.25961126, 0.30799501, 0.        , 0.        , 0.        ,\n",
       "        0.25961126, 0.        , 0.        , 0.        , 0.        ,\n",
       "        0.        , 0.        , 0.        , 0.        , 0.        ,\n",
       "        0.        , 0.        , 0.25961126, 0.        , 0.22542866,\n",
       "        0.        , 0.        , 0.        , 0.        , 0.        ,\n",
       "        0.        , 0.        , 0.        , 0.        , 0.        ,\n",
       "        0.        , 0.        , 0.        , 0.        , 0.25961126,\n",
       "        0.25961126, 0.        , 0.        , 0.25961126, 0.        ,\n",
       "        0.        , 0.        , 0.        , 0.        , 0.        ,\n",
       "        0.        , 0.        , 0.        , 0.        , 0.        ,\n",
       "        0.        , 0.        , 0.        ]])"
      ]
     },
     "execution_count": 51,
     "metadata": {},
     "output_type": "execute_result"
    }
   ],
   "source": [
    "X[0].toarray()"
   ]
  },
  {
   "cell_type": "code",
   "execution_count": 53,
   "id": "4530e289",
   "metadata": {},
   "outputs": [],
   "source": [
    "## so we see less sparse then BOW using TFIDF\n",
    "\n",
    "\n",
    "## using NGram with tfidf\n",
    "cv=TfidfVectorizer(ngram_range=(3,3))\n",
    "X=cv.fit_transform(corpus)"
   ]
  },
  {
   "cell_type": "code",
   "execution_count": 54,
   "id": "c5b36952",
   "metadata": {},
   "outputs": [
    {
     "data": {
      "text/plain": [
       "'narendra damodardas modi gujarati n end mod modi born september b indian politician served prime minister india since may'"
      ]
     },
     "execution_count": 54,
     "metadata": {},
     "output_type": "execute_result"
    }
   ],
   "source": [
    "corpus[0]"
   ]
  },
  {
   "cell_type": "code",
   "execution_count": 55,
   "id": "7a2a0e98",
   "metadata": {},
   "outputs": [
    {
     "data": {
      "text/plain": [
       "array([[0.        , 0.        , 0.        , 0.        , 0.        ,\n",
       "        0.        , 0.        , 0.        , 0.        , 0.        ,\n",
       "        0.        , 0.        , 0.        , 0.        , 0.        ,\n",
       "        0.25819889, 0.        , 0.        , 0.        , 0.        ,\n",
       "        0.        , 0.        , 0.        , 0.        , 0.        ,\n",
       "        0.25819889, 0.        , 0.        , 0.        , 0.        ,\n",
       "        0.        , 0.        , 0.25819889, 0.        , 0.        ,\n",
       "        0.        , 0.        , 0.        , 0.        , 0.        ,\n",
       "        0.        , 0.        , 0.        , 0.        , 0.25819889,\n",
       "        0.        , 0.        , 0.        , 0.        , 0.        ,\n",
       "        0.        , 0.25819889, 0.        , 0.25819889, 0.        ,\n",
       "        0.        , 0.        , 0.        , 0.        , 0.        ,\n",
       "        0.        , 0.        , 0.        , 0.        , 0.        ,\n",
       "        0.        , 0.        , 0.        , 0.        , 0.        ,\n",
       "        0.25819889, 0.        , 0.25819889, 0.        , 0.        ,\n",
       "        0.        , 0.        , 0.25819889, 0.        , 0.25819889,\n",
       "        0.        , 0.25819889, 0.        , 0.        , 0.        ,\n",
       "        0.        , 0.        , 0.        , 0.        , 0.        ,\n",
       "        0.        , 0.        , 0.25819889, 0.        , 0.25819889,\n",
       "        0.        , 0.        , 0.        , 0.        , 0.        ,\n",
       "        0.        , 0.        , 0.        , 0.        , 0.        ,\n",
       "        0.25819889, 0.25819889, 0.        , 0.        , 0.        ,\n",
       "        0.        , 0.        , 0.        , 0.        , 0.        ,\n",
       "        0.        , 0.        , 0.        , 0.        ]])"
      ]
     },
     "execution_count": 55,
     "metadata": {},
     "output_type": "execute_result"
    }
   ],
   "source": [
    "X[0].toarray()"
   ]
  },
  {
   "cell_type": "code",
   "execution_count": 58,
   "id": "de3ec700",
   "metadata": {},
   "outputs": [],
   "source": [
    "## using max_features= 3 \n",
    "\n",
    "cv=TfidfVectorizer(ngram_range=(1,1), max_features=3)\n",
    "X=cv.fit_transform(corpus)"
   ]
  },
  {
   "cell_type": "code",
   "execution_count": 59,
   "id": "3e33c0c7",
   "metadata": {},
   "outputs": [
    {
     "data": {
      "text/plain": [
       "'narendra damodardas modi gujarati n end mod modi born september b indian politician served prime minister india since may'"
      ]
     },
     "execution_count": 59,
     "metadata": {},
     "output_type": "execute_result"
    }
   ],
   "source": [
    "corpus[0]"
   ]
  },
  {
   "cell_type": "code",
   "execution_count": 60,
   "id": "52a728bb",
   "metadata": {},
   "outputs": [
    {
     "data": {
      "text/plain": [
       "array([[0.        , 0.4766417 , 0.87909766]])"
      ]
     },
     "execution_count": 60,
     "metadata": {},
     "output_type": "execute_result"
    }
   ],
   "source": [
    "X[0].toarray()"
   ]
  },
  {
   "cell_type": "code",
   "execution_count": 66,
   "id": "7d152db0",
   "metadata": {},
   "outputs": [],
   "source": [
    "## top features also filtered by max_features value\n",
    "\n",
    "cv=TfidfVectorizer(ngram_range=(1,1), max_features=10)\n",
    "X=cv.fit_transform(corpus)"
   ]
  },
  {
   "cell_type": "code",
   "execution_count": 62,
   "id": "d7e88f9f",
   "metadata": {},
   "outputs": [
    {
     "data": {
      "text/plain": [
       "['narendra damodardas modi gujarati n end mod modi born september b indian politician served prime minister india since may',\n",
       " 'modi chief minister gujarat member parliament mp varanasi',\n",
       " 'member bharatiya janata party bjp rashtriya swayamsevak sangh r right wing hindu nationalist paramilitary volunteer organisation',\n",
       " 'longest serving prime minister outside indian national congress',\n",
       " 'modi born raised vadnagar northeastern gujarat completed secondary education',\n",
       " 'introduced r age eight',\n",
       " 'age married jashodaben modi abandoned soon publicly acknowledging four decade later legally required',\n",
       " 'modi became full time worker r gujarat',\n",
       " 'r assigned bjp rose party hierarchy becoming general secretary',\n",
       " 'c modi appointed chief minister gujarat elected legislative assembly soon',\n",
       " 'administration considered complicit gujarat riot criticised management crisis',\n",
       " 'according official record little people killed three quarter muslim independent source estimated death mostly muslim',\n",
       " 'special investigation team appointed supreme court india found evidence initiate prosecution proceeding',\n",
       " 'e policy chief minister credited encouraging economic growth administration criticised failing significantly improve health poverty education index state',\n",
       " 'f']"
      ]
     },
     "execution_count": 62,
     "metadata": {},
     "output_type": "execute_result"
    }
   ],
   "source": [
    "corpus"
   ]
  },
  {
   "cell_type": "code",
   "execution_count": 63,
   "id": "ce8041a5",
   "metadata": {},
   "outputs": [
    {
     "data": {
      "text/plain": [
       "'narendra damodardas modi gujarati n end mod modi born september b indian politician served prime minister india since may'"
      ]
     },
     "execution_count": 63,
     "metadata": {},
     "output_type": "execute_result"
    }
   ],
   "source": [
    "corpus[0]"
   ]
  },
  {
   "cell_type": "code",
   "execution_count": 65,
   "id": "9597dd59",
   "metadata": {},
   "outputs": [
    {
     "data": {
      "text/plain": [
       "array([[0.        , 0.        , 0.        , 0.42971789, 0.42971789,\n",
       "        0.        , 0.31832658, 0.58710799, 0.        , 0.42971789]])"
      ]
     },
     "execution_count": 65,
     "metadata": {},
     "output_type": "execute_result"
    }
   ],
   "source": [
    "X[0].toarray()"
   ]
  },
  {
   "cell_type": "code",
   "execution_count": null,
   "id": "bf85abbf",
   "metadata": {},
   "outputs": [],
   "source": []
  }
 ],
 "metadata": {
  "kernelspec": {
   "display_name": "Python 3 (ipykernel)",
   "language": "python",
   "name": "python3"
  },
  "language_info": {
   "codemirror_mode": {
    "name": "ipython",
    "version": 3
   },
   "file_extension": ".py",
   "mimetype": "text/x-python",
   "name": "python",
   "nbconvert_exporter": "python",
   "pygments_lexer": "ipython3",
   "version": "3.11.4"
  }
 },
 "nbformat": 4,
 "nbformat_minor": 5
}
